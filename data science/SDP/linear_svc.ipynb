{
 "cells": [
  {
   "cell_type": "code",
   "execution_count": 1,
   "metadata": {},
   "outputs": [
    {
     "name": "stderr",
     "output_type": "stream",
     "text": [
      "[nltk_data] Downloading package stopwords to\n",
      "[nltk_data]     C:\\Users\\nishi\\AppData\\Roaming\\nltk_data...\n",
      "[nltk_data]   Package stopwords is already up-to-date!\n"
     ]
    },
    {
     "data": {
      "text/plain": [
       "True"
      ]
     },
     "execution_count": 1,
     "metadata": {},
     "output_type": "execute_result"
    }
   ],
   "source": [
    "import re\n",
    "\n",
    "import numpy as np\n",
    "import pandas as pd\n",
    "import seaborn as sns\n",
    "import csv\n",
    "import nltk\n",
    "from nltk.corpus import stopwords\n",
    "nltk.download('stopwords')"
   ]
  },
  {
   "cell_type": "code",
   "execution_count": 2,
   "metadata": {},
   "outputs": [
    {
     "name": "stderr",
     "output_type": "stream",
     "text": [
      "C:\\Users\\nishi\\AppData\\Local\\Temp\\ipykernel_10164\\1319228764.py:6: DtypeWarning: Columns (4) have mixed types. Specify dtype option on import or set low_memory=False.\n",
      "  df = pd.read_csv('C:/Users/nishi/Documents/data science/SDP/clean_dataset.csv')\n"
     ]
    },
    {
     "data": {
      "text/html": [
       "<div>\n",
       "<style scoped>\n",
       "    .dataframe tbody tr th:only-of-type {\n",
       "        vertical-align: middle;\n",
       "    }\n",
       "\n",
       "    .dataframe tbody tr th {\n",
       "        vertical-align: top;\n",
       "    }\n",
       "\n",
       "    .dataframe thead th {\n",
       "        text-align: right;\n",
       "    }\n",
       "</style>\n",
       "<table border=\"1\" class=\"dataframe\">\n",
       "  <thead>\n",
       "    <tr style=\"text-align: right;\">\n",
       "      <th></th>\n",
       "      <th>rotten_tomatoes_link</th>\n",
       "      <th>top_critic</th>\n",
       "      <th>publisher_name</th>\n",
       "      <th>review_type</th>\n",
       "      <th>review_score</th>\n",
       "      <th>review_date</th>\n",
       "      <th>review_content</th>\n",
       "    </tr>\n",
       "  </thead>\n",
       "  <tbody>\n",
       "    <tr>\n",
       "      <th>0</th>\n",
       "      <td>m/0814255</td>\n",
       "      <td>False</td>\n",
       "      <td>Sunday Mail (Australia)</td>\n",
       "      <td>Fresh</td>\n",
       "      <td>3.5</td>\n",
       "      <td>2/9/2010</td>\n",
       "      <td>Whether audiences will get behind The Lightnin...</td>\n",
       "    </tr>\n",
       "    <tr>\n",
       "      <th>1</th>\n",
       "      <td>m/0814255</td>\n",
       "      <td>True</td>\n",
       "      <td>Arizona Republic</td>\n",
       "      <td>Fresh</td>\n",
       "      <td>3.5</td>\n",
       "      <td>2/10/2010</td>\n",
       "      <td>Percy Jackson isn't a great movie, but it's a ...</td>\n",
       "    </tr>\n",
       "    <tr>\n",
       "      <th>2</th>\n",
       "      <td>m/0814255</td>\n",
       "      <td>True</td>\n",
       "      <td>The Age (Australia)</td>\n",
       "      <td>Fresh</td>\n",
       "      <td>3</td>\n",
       "      <td>2/10/2010</td>\n",
       "      <td>Crammed with dragons, set-destroying fights an...</td>\n",
       "    </tr>\n",
       "    <tr>\n",
       "      <th>3</th>\n",
       "      <td>m/0814255</td>\n",
       "      <td>False</td>\n",
       "      <td>Daily Mirror (UK)</td>\n",
       "      <td>Fresh</td>\n",
       "      <td>4</td>\n",
       "      <td>2/10/2010</td>\n",
       "      <td>This action-packed fantasy adventure, based on...</td>\n",
       "    </tr>\n",
       "    <tr>\n",
       "      <th>4</th>\n",
       "      <td>m/0814255</td>\n",
       "      <td>True</td>\n",
       "      <td>Time Out</td>\n",
       "      <td>Rotten</td>\n",
       "      <td>2</td>\n",
       "      <td>2/10/2010</td>\n",
       "      <td>Chris Columbus returns to his comfort zone for...</td>\n",
       "    </tr>\n",
       "    <tr>\n",
       "      <th>...</th>\n",
       "      <td>...</td>\n",
       "      <td>...</td>\n",
       "      <td>...</td>\n",
       "      <td>...</td>\n",
       "      <td>...</td>\n",
       "      <td>...</td>\n",
       "      <td>...</td>\n",
       "    </tr>\n",
       "    <tr>\n",
       "      <th>358249</th>\n",
       "      <td>m/zulu_dawn</td>\n",
       "      <td>False</td>\n",
       "      <td>PopcornQ</td>\n",
       "      <td>Fresh</td>\n",
       "      <td>3.0</td>\n",
       "      <td>8/14/2005</td>\n",
       "      <td>NaN</td>\n",
       "    </tr>\n",
       "    <tr>\n",
       "      <th>358250</th>\n",
       "      <td>m/zulu_dawn</td>\n",
       "      <td>False</td>\n",
       "      <td>ColeSmithey.com</td>\n",
       "      <td>Fresh</td>\n",
       "      <td>4.0</td>\n",
       "      <td>11/1/2005</td>\n",
       "      <td>NaN</td>\n",
       "    </tr>\n",
       "    <tr>\n",
       "      <th>358251</th>\n",
       "      <td>m/zulu_dawn</td>\n",
       "      <td>False</td>\n",
       "      <td>Fantastica Daily</td>\n",
       "      <td>Rotten</td>\n",
       "      <td>2.0</td>\n",
       "      <td>11/2/2005</td>\n",
       "      <td>NaN</td>\n",
       "    </tr>\n",
       "    <tr>\n",
       "      <th>358252</th>\n",
       "      <td>m/zulu_dawn</td>\n",
       "      <td>False</td>\n",
       "      <td>Mountain Xpress (Asheville, NC)</td>\n",
       "      <td>Fresh</td>\n",
       "      <td>3.5</td>\n",
       "      <td>3/7/2007</td>\n",
       "      <td>Seen today, it's not only a startling indictme...</td>\n",
       "    </tr>\n",
       "    <tr>\n",
       "      <th>358253</th>\n",
       "      <td>m/zulu_dawn</td>\n",
       "      <td>False</td>\n",
       "      <td>Sarasota Herald-Tribune</td>\n",
       "      <td>Rotten</td>\n",
       "      <td>3.5</td>\n",
       "      <td>2/28/2011</td>\n",
       "      <td>A simple two-act story: Prelude to war, and th...</td>\n",
       "    </tr>\n",
       "  </tbody>\n",
       "</table>\n",
       "<p>358254 rows × 7 columns</p>\n",
       "</div>"
      ],
      "text/plain": [
       "       rotten_tomatoes_link  top_critic                   publisher_name  \\\n",
       "0                 m/0814255       False          Sunday Mail (Australia)   \n",
       "1                 m/0814255        True                 Arizona Republic   \n",
       "2                 m/0814255        True              The Age (Australia)   \n",
       "3                 m/0814255       False                Daily Mirror (UK)   \n",
       "4                 m/0814255        True                         Time Out   \n",
       "...                     ...         ...                              ...   \n",
       "358249          m/zulu_dawn       False                         PopcornQ   \n",
       "358250          m/zulu_dawn       False                  ColeSmithey.com   \n",
       "358251          m/zulu_dawn       False                 Fantastica Daily   \n",
       "358252          m/zulu_dawn       False  Mountain Xpress (Asheville, NC)   \n",
       "358253          m/zulu_dawn       False          Sarasota Herald-Tribune   \n",
       "\n",
       "       review_type review_score review_date  \\\n",
       "0            Fresh          3.5    2/9/2010   \n",
       "1            Fresh          3.5   2/10/2010   \n",
       "2            Fresh            3   2/10/2010   \n",
       "3            Fresh            4   2/10/2010   \n",
       "4           Rotten            2   2/10/2010   \n",
       "...            ...          ...         ...   \n",
       "358249       Fresh          3.0   8/14/2005   \n",
       "358250       Fresh          4.0   11/1/2005   \n",
       "358251      Rotten          2.0   11/2/2005   \n",
       "358252       Fresh          3.5    3/7/2007   \n",
       "358253      Rotten          3.5   2/28/2011   \n",
       "\n",
       "                                           review_content  \n",
       "0       Whether audiences will get behind The Lightnin...  \n",
       "1       Percy Jackson isn't a great movie, but it's a ...  \n",
       "2       Crammed with dragons, set-destroying fights an...  \n",
       "3       This action-packed fantasy adventure, based on...  \n",
       "4       Chris Columbus returns to his comfort zone for...  \n",
       "...                                                   ...  \n",
       "358249                                                NaN  \n",
       "358250                                                NaN  \n",
       "358251                                                NaN  \n",
       "358252  Seen today, it's not only a startling indictme...  \n",
       "358253  A simple two-act story: Prelude to war, and th...  \n",
       "\n",
       "[358254 rows x 7 columns]"
      ]
     },
     "execution_count": 2,
     "metadata": {},
     "output_type": "execute_result"
    }
   ],
   "source": [
    "import os\n",
    "\n",
    "#path = os.path('C:/Users/nishi/Documents/data science/SDP')\n",
    "#data = pd.read_csv(path)\n",
    "\n",
    "df = pd.read_csv('C:/Users/nishi/Documents/data science/SDP/clean_dataset.csv')\n",
    "df"
   ]
  },
  {
   "cell_type": "code",
   "execution_count": 5,
   "metadata": {},
   "outputs": [],
   "source": [
    "df.drop(df[df['review_score']==\"4-Mar\"].index, inplace = True)\n",
    "df.drop(df[df['review_score']==\"4-Feb\"].index, inplace = True)\n",
    "df.drop(df[df['review_score']==\"B+\"].index, inplace = True)\n",
    "df.drop(df[df['review_score']==\"4-Apr\"].index, inplace = True)\n",
    "df.drop(df[df['review_score']==\"2.5/4\"].index, inplace = True)\n",
    "df.drop(df[df['review_score']==\"3.5/4\"].index, inplace = True)\n",
    "df.drop(df[df['review_score']==\"B\"].index, inplace = True)\n",
    "df.drop(df[df['review_score']==\"B-\"].index, inplace = True)\n",
    "df.drop(df[df['review_score']==\"A-\"].index, inplace = True)\n",
    "df.drop(df[df['review_score']==\"1.5/4\"].index, inplace = True)\n",
    "df.drop(df[df['review_score']==\"4-Jan\"].index, inplace = True)\n",
    "df.drop(df[df['review_score']==\"10-Sep\"].index, inplace = True)\n",
    "df.drop(df[df['review_score']==\"A\"].index, inplace = True)\n",
    "df.drop(df[df['review_score']==\"C-\"].index, inplace = True)\n",
    "df.drop(df[df['review_score']==\"10-Jul\"].index, inplace = True)\n",
    "df.drop(df[df['review_score']==\"10-Jun\"].index, inplace = True)\n",
    "df.drop(df[df['review_score']==\"C+\"].index, inplace = True)\n",
    "df.drop(df[df['review_score']==\"10-May\"].index, inplace = True)\n",
    "df.drop(df[df['review_score']==\"C\"].index, inplace = True)\n",
    "df.drop(df[df['review_score']==\"10-Mar\"].index, inplace = True)\n",
    "df.drop(df[df['review_score']==\"10-Aug\"].index, inplace = True)\n",
    "df.drop(df[df['review_score']==\"10-Apr\"].index, inplace = True)\n",
    "df.drop(df[df['review_score']==\"10-Oct\"].index, inplace = True)\n",
    "df.drop(df[df['review_score']==\"D+\"].index, inplace = True)\n",
    "df.drop(df[df['review_score']==\"7.5/10\"].index, inplace = True)\n",
    "df.drop(df[df['review_score']==\"53/100\"].index, inplace = True)\n",
    "df.drop(df[df['review_score']==\"9.25/10\"].index, inplace = True)\n",
    "df.drop(df[df['review_score']==\"D+\"].index, inplace = True)\n",
    "df.drop(df[df['review_score']==\"F\"].index, inplace = True)\n",
    "df.drop(df[df['review_score']==\"62/100\"].index, inplace = True)\n",
    "df.drop(df[df['review_score']==\"4.4/10\"].index, inplace = True)\n",
    "df.drop(df[df['review_score']==\"82/100\"].index, inplace = True)\n",
    "df.drop(df[df['review_score']==\"0.5/4\"].index, inplace = True)\n",
    "df.drop(df[df['review_score']==\"64/100\"].index, inplace = True)\n",
    "df.drop(df[df['review_score']==\"86/100\"].index, inplace = True)\n",
    "df.drop(df[df['review_score']==\"8.3/10\"].index, inplace = True)\n",
    "df.drop(df[df['review_score']==\"9.5/10\"].index, inplace = True)\n",
    "df.drop(df[df['review_score']==\"51/100\"].index, inplace = True)\n",
    "df.drop(df[df['review_score']==\"44/100\"].index, inplace = True)\n",
    "df.drop(df[df['review_score']==\"9.19/10\"].index, inplace = True)\n",
    "df.drop(df[df['review_score']==\"59/100\"].index, inplace = True)\n",
    "df.drop(df[df['review_score']==\"D-\"].index, inplace = True)\n",
    "df.drop(df[df['review_score']==\"D\"].index, inplace = True)\n",
    "df.drop(df[df['review_score']==\"0.5.5\"].index, inplace = True)\n",
    "df.drop(df[df['review_score']==\"3.5.5\"].index, inplace = True)\n",
    "df.drop(df[df['review_score']==\"6\"].index, inplace = True)\n",
    "df.drop(df[df['review_score']==\"0\"].index, inplace = True)\n",
    "df.drop(df[df['review_score']==\"9\"].index, inplace = True)\n",
    "df.drop(df[df['review_score']==\"7\"].index, inplace = True)\n",
    "df.drop(df[df['review_score']==\"470\"].index, inplace = True)\n",
    "df.drop(df[df['review_score']==\"3.5\"].index, inplace = True)\n",
    "df.drop(df[df['review_score']==\"2.75\"].index, inplace = True)\n",
    "df.drop(df[df['review_score']==\"0\"].index, inplace = True)\n",
    "df.drop(df[df['review_score']==\"8\"].index, inplace = True)\n",
    "df.drop(df[df['review_score']==\"24\"].index, inplace = True)\n",
    "df.drop(df[df['review_score']==\"6\"].index, inplace = True)\n",
    "df.drop(df[df['review_score']==\"45\"].index, inplace = True)\n",
    "df.drop(df[df['review_score']==\"14\"].index, inplace = True)\n",
    "df.drop(df[df['review_score']==\"9\"].index, inplace = True)\n",
    "df.drop(df[df['review_score']==\"6-Apr\"].index, inplace = True)\n"
   ]
  },
  {
   "cell_type": "code",
   "execution_count": 8,
   "metadata": {},
   "outputs": [],
   "source": [
    "df = df.dropna(axis=0)"
   ]
  },
  {
   "cell_type": "code",
   "execution_count": 9,
   "metadata": {},
   "outputs": [],
   "source": [
    "convert_dict = {'review_score': float\n",
    "               }\n",
    "  \n",
    "df = df.astype(convert_dict)"
   ]
  },
  {
   "cell_type": "code",
   "execution_count": 10,
   "metadata": {},
   "outputs": [],
   "source": [
    "convert_dict = {'review_score': int\n",
    "               }\n",
    "  \n",
    "df = df.astype(convert_dict)"
   ]
  },
  {
   "cell_type": "code",
   "execution_count": 11,
   "metadata": {},
   "outputs": [
    {
     "data": {
      "text/plain": [
       "rotten_tomatoes_link    0\n",
       "top_critic              0\n",
       "publisher_name          0\n",
       "review_type             0\n",
       "review_score            0\n",
       "review_date             0\n",
       "review_content          0\n",
       "dtype: int64"
      ]
     },
     "execution_count": 11,
     "metadata": {},
     "output_type": "execute_result"
    }
   ],
   "source": [
    "df.isnull().sum()"
   ]
  },
  {
   "cell_type": "code",
   "execution_count": 12,
   "metadata": {},
   "outputs": [
    {
     "name": "stdout",
     "output_type": "stream",
     "text": [
      "3     85986\n",
      "4     85912\n",
      "2     70854\n",
      "1     24999\n",
      "5     20769\n",
      "0      1732\n",
      "9         1\n",
      "8         1\n",
      "6         1\n",
      "45        1\n",
      "Name: review_score, dtype: int64\n"
     ]
    }
   ],
   "source": [
    "temp = df['review_score'].value_counts()\n",
    "with pd.option_context('display.max_rows',None):\n",
    "    print(temp)"
   ]
  },
  {
   "cell_type": "code",
   "execution_count": 13,
   "metadata": {},
   "outputs": [],
   "source": [
    "df.drop(df[df['review_score']==0].index,axis=0, inplace = True)\n",
    "df.drop(df[df['review_score']==9].index,axis=0, inplace = True)\n",
    "df.drop(df[df['review_score']==8].index,axis=0, inplace = True)\n",
    "df.drop(df[df['review_score']==45].index,axis=0, inplace = True)\n",
    "df.drop(df[df['review_score']==6].index,axis=0, inplace = True)"
   ]
  },
  {
   "cell_type": "code",
   "execution_count": 14,
   "metadata": {},
   "outputs": [
    {
     "name": "stdout",
     "output_type": "stream",
     "text": [
      "3    85986\n",
      "4    85912\n",
      "2    70854\n",
      "1    24999\n",
      "5    20769\n",
      "Name: review_score, dtype: int64\n"
     ]
    }
   ],
   "source": [
    "temp_2 = df['review_score'].value_counts()\n",
    "with pd.option_context('display.max_rows',None):\n",
    "    print(temp_2)"
   ]
  },
  {
   "cell_type": "code",
   "execution_count": 15,
   "metadata": {},
   "outputs": [
    {
     "data": {
      "text/plain": [
       "array([3, 4, 2, 1, 5])"
      ]
     },
     "execution_count": 15,
     "metadata": {},
     "output_type": "execute_result"
    }
   ],
   "source": [
    "df['review_score'].unique()"
   ]
  },
  {
   "cell_type": "code",
   "execution_count": 17,
   "metadata": {},
   "outputs": [],
   "source": [
    "#METHOD FOR CLEANING THE REVIEW CONTENT\n",
    "def text_clean(message):\n",
    "  '''\n",
    "  message = \"#'This', is $string #with punction, <br /> @'html_tag' and actual message also!\"\n",
    "\n",
    "  return 'string punction html_tag actual message also'\n",
    "  '''\n",
    "\n",
    "  html_tag = '<br />'\n",
    "  message = message.replace(html_tag,'')  # remove html tag\n",
    "  message = re.sub(r'[^\\w\\s]', '', message)   # remove punctiation\n",
    "  message = message.lower()\n",
    "  message = [word for word in message.split() if word not in stopwords.words('english')]\n",
    "  message = ' '.join(message)\n",
    "\n",
    "  return message"
   ]
  },
  {
   "cell_type": "code",
   "execution_count": 18,
   "metadata": {},
   "outputs": [
    {
     "data": {
      "text/plain": [
       "'string punction html_tag actual message also'"
      ]
     },
     "execution_count": 18,
     "metadata": {},
     "output_type": "execute_result"
    }
   ],
   "source": [
    "test_str = \"#'This', is $string #with punction, <br /> @'html_tag' and actual message also!\"\n",
    "text_clean(test_str)"
   ]
  },
  {
   "cell_type": "code",
   "execution_count": 19,
   "metadata": {},
   "outputs": [],
   "source": [
    "df['review_content'] = df['review_content'].apply(text_clean)"
   ]
  },
  {
   "cell_type": "code",
   "execution_count": 20,
   "metadata": {},
   "outputs": [
    {
     "data": {
      "text/plain": [
       "2    crammed dragons setdestroying fights things ex...\n",
       "3    actionpacked fantasy adventure based rick rior...\n",
       "4    chris columbus returns comfort zone mirthless ...\n",
       "5    best thing say chris columbuss adaptation hes ...\n",
       "7    although standard allegorical bases mythicalqu...\n",
       "Name: review_content, dtype: object"
      ]
     },
     "execution_count": 20,
     "metadata": {},
     "output_type": "execute_result"
    }
   ],
   "source": [
    "df['review_content'].head()"
   ]
  },
  {
   "cell_type": "code",
   "execution_count": 21,
   "metadata": {},
   "outputs": [],
   "source": [
    "#TFIDF AND LINEAR SVM\n",
    "from sklearn.feature_extraction.text import TfidfVectorizer\n",
    "from sklearn.model_selection import train_test_split\n",
    "from sklearn.svm import LinearSVC\n",
    "from sklearn.metrics import classification_report"
   ]
  },
  {
   "cell_type": "code",
   "execution_count": 23,
   "metadata": {},
   "outputs": [],
   "source": [
    "tfidf = TfidfVectorizer(max_features = 10000,ngram_range = (1,5),analyzer='char')"
   ]
  },
  {
   "cell_type": "code",
   "execution_count": 24,
   "metadata": {},
   "outputs": [],
   "source": [
    "X = tfidf.fit_transform(df['review_content'])\n",
    "Y = df['review_score']"
   ]
  },
  {
   "cell_type": "code",
   "execution_count": 25,
   "metadata": {},
   "outputs": [
    {
     "data": {
      "text/plain": [
       "((288520, 10000), (288520,))"
      ]
     },
     "execution_count": 25,
     "metadata": {},
     "output_type": "execute_result"
    }
   ],
   "source": [
    "X.shape,Y.shape"
   ]
  },
  {
   "cell_type": "code",
   "execution_count": 26,
   "metadata": {},
   "outputs": [],
   "source": [
    "X_train,X_test,Y_train,Y_test = train_test_split(X,Y,test_size = 0.3,random_state = 42)"
   ]
  },
  {
   "cell_type": "code",
   "execution_count": 27,
   "metadata": {},
   "outputs": [
    {
     "data": {
      "text/plain": [
       "(201964, 10000)"
      ]
     },
     "execution_count": 27,
     "metadata": {},
     "output_type": "execute_result"
    }
   ],
   "source": [
    "X_train.shape"
   ]
  },
  {
   "cell_type": "code",
   "execution_count": 28,
   "metadata": {},
   "outputs": [
    {
     "data": {
      "text/plain": [
       "LinearSVC(C=20, class_weight='balanced', dual=False)"
      ]
     },
     "execution_count": 28,
     "metadata": {},
     "output_type": "execute_result"
    }
   ],
   "source": [
    "clf = LinearSVC(C = 20,class_weight = 'balanced',dual = False)\n",
    "clf.fit(X_train,Y_train)"
   ]
  },
  {
   "cell_type": "code",
   "execution_count": 29,
   "metadata": {},
   "outputs": [],
   "source": [
    "y_pred = clf.predict(X_test)"
   ]
  },
  {
   "cell_type": "code",
   "execution_count": 30,
   "metadata": {},
   "outputs": [
    {
     "name": "stdout",
     "output_type": "stream",
     "text": [
      "              precision    recall  f1-score   support\n",
      "\n",
      "           1       0.29      0.44      0.35      7488\n",
      "           2       0.48      0.47      0.48     21280\n",
      "           3       0.50      0.39      0.44     25794\n",
      "           4       0.52      0.48      0.50     25731\n",
      "           5       0.25      0.41      0.31      6263\n",
      "\n",
      "    accuracy                           0.44     86556\n",
      "   macro avg       0.41      0.44      0.41     86556\n",
      "weighted avg       0.46      0.44      0.45     86556\n",
      "\n"
     ]
    }
   ],
   "source": [
    "print(classification_report(Y_test,y_pred,zero_division = 1))"
   ]
  }
 ],
 "metadata": {
  "interpreter": {
   "hash": "2fd4a05da7d287d5d3aec574a45a230f4cc8e448b820a505235819aab6760413"
  },
  "kernelspec": {
   "display_name": "Python 3.9.9 64-bit",
   "language": "python",
   "name": "python3"
  },
  "language_info": {
   "codemirror_mode": {
    "name": "ipython",
    "version": 3
   },
   "file_extension": ".py",
   "mimetype": "text/x-python",
   "name": "python",
   "nbconvert_exporter": "python",
   "pygments_lexer": "ipython3",
   "version": "3.9.9"
  },
  "orig_nbformat": 4
 },
 "nbformat": 4,
 "nbformat_minor": 2
}
